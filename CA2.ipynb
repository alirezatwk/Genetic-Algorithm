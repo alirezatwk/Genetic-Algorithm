{
 "cells": [
  {
   "cell_type": "markdown",
   "metadata": {},
   "source": [
    "# به نام خدا\n",
    "\n",
    "\n",
    "\n",
    "\n",
    "# پروژه‌ی دوم هوش مصنوعی الگوریتم ژنتیک\n",
    "\n",
    "# علیرضا توکلی\n",
    "# ۸۱۰۱۹۷۶۸۶"
   ]
  },
  {
   "cell_type": "markdown",
   "metadata": {},
   "source": [
    "# هدف از انجام پروژه\n",
    "هدف از انجام این پروژه بررسی عمل‌کرد الگوریتم ژنتیک و بررسی حالات مختلف آن تحت شرایط متفاوت می‌باشد."
   ]
  },
  {
   "cell_type": "markdown",
   "metadata": {},
   "source": [
    "# توضیح کلی پروژه\n",
    "در این پروژه با مسئله‌ی مدار منطقی‌ای رو به رو هستیم که باید گیت‌های مورد نظر جواب را پیدا کنیم به طوری که مثال‌های گفته شده را به درستی جواب دهد. مسئله‌ی مهم این قضیه این است که تعداد حالات مسئله زیاد می‌باشد و الگوریتم ژنتیک برای این کار بسیار کارآمد است."
   ]
  },
  {
   "cell_type": "markdown",
   "metadata": {},
   "source": [
    "# دیتای لود شده\n",
    "دیتای لود شده در این مسئله، تعداد دلخواهی ورودی مختلف به مدار مورد نظر و جواب آن است. به این صورت که در تعداد دل‌خواهی سطر، هر ستون ورودی را نشان می‌دهد به جز ستون آخر که خروجی مدارمان را نشان می‌دهد."
   ]
  },
  {
   "cell_type": "markdown",
   "metadata": {},
   "source": [
    "# فاز اول"
   ]
  },
  {
   "cell_type": "markdown",
   "metadata": {},
   "source": [
    "ژن: یکی از انواع گیت‌ها که ورودی‌ها را با توجه به مقداری که می‌تواند از شش نوع گفته شده داشته باشد، به خروجی تبدیل می‌کند.\n",
    "\n",
    "برای راحتی کار هر گیت را با یک عدد از اعداد ۰ تا ۵ نشان می‌دهیم که به ترتیب نشان‌دهنده‌ی گیت‌های زیر می‌باشند.\n",
    "\n",
    "AND OR XOR NAND NOR XNOR\n",
    "\n",
    "کروموزوم:\n",
    "مجموعه‌ای از ژن‌ها که تعدادشان برابر با تعداد ستون‌های ورودی منهای یک خواهد بود. در هر کروموزوم هر ژن ورودی ژن قبلی را با عدد جدید به عنوان خروجی می‌دهد."
   ]
  },
  {
   "cell_type": "markdown",
   "metadata": {},
   "source": [
    "# فاز دوم"
   ]
  },
  {
   "cell_type": "markdown",
   "metadata": {},
   "source": [
    "## هدف از انجام\n",
    "برای این الگوریتم نیاز به جمعیت اولیه داریم این قطعه کد برای ما این کار را انجام می‌دهد.\n",
    "\n",
    "به تعداد گیت‌های مورد نیاز به تولید عدد ۰ تا ۵ می‌پردازیم. توجه شود که عددی که انتخاب می‌شود با احتمال یکسان است. پس تولید هر جواب احتمال یکسانی دارد."
   ]
  },
  {
   "cell_type": "code",
   "execution_count": 268,
   "metadata": {},
   "outputs": [],
   "source": [
    "import copy\n",
    "import random\n",
    "import pandas as pd\n",
    "import numpy as np\n",
    "import time\n",
    "np.random.seed(13)\n",
    "random.seed(13)\n",
    "df = pd.read_csv('truth_table.csv')\n",
    "rows, columns = df.shape\n",
    "inputs = columns - 1\n",
    "gates = inputs - 1"
   ]
  },
  {
   "cell_type": "markdown",
   "metadata": {},
   "source": [
    "پارامتر تعداد جمعیت را تعدادی می‌گذاریم که بیش‌از آن برنامه به صورت زیادی کند شود. برای این که این تعداد ربطی به مسئله داشته باشد، ایده‌ی خوبی بود که می‌توانستیم تعداد دو به توان تعداد ورودی‌ها را امتحان کنیم. اما از آن‌جایی که نمی‌دانیم بازه‌ی تعداد ورودی‌ها چه‌قدر می‌تواند باشد، این تابع لزوما تابع خوبی نیست و از همین ۱۰۲۴ استفاده می‌کنیم."
   ]
  },
  {
   "cell_type": "code",
   "execution_count": 269,
   "metadata": {},
   "outputs": [],
   "source": [
    "population = 1024\n",
    "\n",
    "people = []\n",
    "for i in range(population):\n",
    "    chromosome = []\n",
    "    for j in range(gates):\n",
    "        chromosome.append(random.randint(0, 5))\n",
    "    people.append(chromosome)\n",
    "people = np.array(people)"
   ]
  },
  {
   "cell_type": "markdown",
   "metadata": {},
   "source": [
    "# فاز سوم"
   ]
  },
  {
   "cell_type": "markdown",
   "metadata": {},
   "source": [
    "## نحوه‌ی پیاده‌سازی این فاز\n",
    "تابع فیتنس ما برای این مسئله را به این صورت تعریف می‌کنیم که چه مقدار از ورودی‌ها را به جواب نهاییمان می‌رساند.\n",
    "\n",
    "\n",
    "از آن‌جایی که این تابع تابع پرکاربردی می‌باشد، از روش‌های وکتوریزیشن استفاده می‌کنیم تا برنامه‌ی بهینه‌ای داشته باشیم.\n",
    "\n",
    "هم‌چنین برای ساختن عدد برای میزان درستی جمعیت، از دو تابع نوشته شده می‌توانیم استفاده کنیم. یکی از آن‌ها مقدار بیش‌ترین فیتنس را بر می‌گرداند و دیگری میانگین فیتنس‌ها را خواهد داشت."
   ]
  },
  {
   "cell_type": "code",
   "execution_count": 270,
   "metadata": {},
   "outputs": [],
   "source": [
    "def fitness(chromosome):\n",
    "    col = df.iloc[:, 0].to_numpy(dtype = bool, copy = True)\n",
    "    for i in range(gates):\n",
    "        if chromosome[i] == 0:\n",
    "            np.logical_and(col, df.iloc[:, i + 1].to_numpy(dtype = bool, copy = True), out = col)\n",
    "        elif chromosome[i] == 1:\n",
    "            np.logical_or(col, df.iloc[:, i + 1].to_numpy(dtype = bool, copy = True), out = col)\n",
    "        elif chromosome[i] == 2:\n",
    "            np.logical_xor(col, df.iloc[:, i + 1].to_numpy(dtype = bool, copy = True), out = col)\n",
    "        elif chromosome[i] == 3:\n",
    "            np.logical_not(np.logical_and(col, df.iloc[:, i + 1].to_numpy(dtype = bool, copy = True)), out = col)\n",
    "        elif chromosome[i] == 4:\n",
    "            np.logical_not(np.logical_or(col, df.iloc[:, i + 1].to_numpy(dtype = bool, copy = True)), out = col)\n",
    "        else:\n",
    "            np.logical_not(np.logical_xor(col, df.iloc[:, i + 1].to_numpy(dtype = bool, copy = True)), out = col)\n",
    "    return np.equal(col, df.iloc[:, columns - 1]).sum()"
   ]
  },
  {
   "cell_type": "code",
   "execution_count": 271,
   "metadata": {},
   "outputs": [],
   "source": [
    "def populationMax(people):\n",
    "    return max(map(fitness, people))"
   ]
  },
  {
   "cell_type": "code",
   "execution_count": 272,
   "metadata": {},
   "outputs": [],
   "source": [
    "def populationFitness(people):\n",
    "    return sum(map(fitness, people)) / population"
   ]
  },
  {
   "cell_type": "markdown",
   "metadata": {},
   "source": [
    "# فاز چهارم"
   ]
  },
  {
   "cell_type": "markdown",
   "metadata": {},
   "source": [
    "## نحوه‌ی پیاده‌سازی این فاز\n",
    "\n",
    "در این فاز نیاز به پیاده‌سازی چندین تابع را داریم که به ما برای تولید و پردازش نسل‌ها کمک می‌کند. هر بخش را به صورت جداگانه توضیح خواهیم داد."
   ]
  },
  {
   "cell_type": "markdown",
   "metadata": {},
   "source": [
    "## selection\n",
    "در این بخش از نسل قدیم می‌خواهیم افراد را با توجه به میزان تابع فیتنسشان انتخاب کنیم. دو روش را امتحان کردیم که یکی از آن‌ها عمل‌کرد بهتری داشت."
   ]
  },
  {
   "cell_type": "code",
   "execution_count": 273,
   "metadata": {},
   "outputs": [],
   "source": [
    "prob = [2 * i / (population * (population + 1)) for i in range(1, population + 1)]"
   ]
  },
  {
   "cell_type": "markdown",
   "metadata": {},
   "source": [
    "### FPS\n",
    "در این روش به هر فرد به میزان فیتنسش احتمال حضور در نسل بعدی را می‌دهیم. از خوبی‌های این روش می‌توان به انتخاب افراد با فیتنس بالاتر اشاره کرد اما بدی‌ای نیز دارد که آن این است که این روش از تولید جمعیت مختلف جلوگیری می‌کند و تنوع در این روش به مراتب کم‌تر است."
   ]
  },
  {
   "cell_type": "code",
   "execution_count": 274,
   "metadata": {},
   "outputs": [],
   "source": [
    "def FPS(people):\n",
    "    s = 0\n",
    "    for person in people:\n",
    "        s += fitness(person)\n",
    "    index = np.random.choice(ind, population, p = [fitness(person) / s for person in people])\n",
    "    print(index)\n",
    "    return [people[i] for i in index]"
   ]
  },
  {
   "cell_type": "markdown",
   "metadata": {},
   "source": [
    "### Rank-Based\n",
    "در این روش ابتدا هر فرد را با توجه به فیتنسش رتبه‌بندی کرده و حال برای هر فرد با توجه به رتبه‌ی آن فرد احتمال اختصاص می‌دهیم.\n"
   ]
  },
  {
   "cell_type": "code",
   "execution_count": 275,
   "metadata": {},
   "outputs": [],
   "source": [
    "resh = np.arange(population).reshape(-1, 1)\n",
    "def rankBasedSelection(people):\n",
    "    fitnessList = np.array(list(map(fitness, people)))\n",
    "    pairList = np.hstack((fitnessList.reshape(-1,1), resh))\n",
    "    sortedList = pairList[pairList[:, 0].argsort()]\n",
    "    index = np.random.choice(population, population, p = prob)\n",
    "    newList = sortedList[index]\n",
    "    return np.array(people)[(newList[:, 1]).astype(int)]"
   ]
  },
  {
   "cell_type": "markdown",
   "metadata": {},
   "source": [
    "## crossover\n",
    "با احتمالی دو فرد را به عنوان پدر و مادر انتخاب کرده و روش وان‌پینت را اجرا می‌کنیم.\n",
    "\n",
    "در این روش، تکه‌ای از پدر و تکه‌ای از مادر فرزند‌ها را می‌سازد که این تکه‌ها توسط تابعی رندم انتخاب می‌شود."
   ]
  },
  {
   "cell_type": "code",
   "execution_count": 276,
   "metadata": {},
   "outputs": [],
   "source": [
    "def onePointCrossover(people, probability):\n",
    "    for i in range(population // 2):\n",
    "        if random.random() <= probability:\n",
    "            index = random.randint(1, gates - 1)\n",
    "            for j in range(index):\n",
    "                people[2 * i][j], people[2 * i + 1][j] = people[2 * i + 1][j], people[2 * i][j]"
   ]
  },
  {
   "cell_type": "markdown",
   "metadata": {},
   "source": [
    "## mutation\n",
    "با احتمالی گیت‌های یک فرد را عوض می‌کنیم. این گیت جدید می‌تواند هر کدام از گیت‌های ما باشد. این تابع باید احتمال کمی داشته باشد که جواب‌های خوبی که پیدا کردیم را زیاد تغییر ندهد و ساختار آن‌ها حفظ شود."
   ]
  },
  {
   "cell_type": "code",
   "execution_count": 277,
   "metadata": {},
   "outputs": [],
   "source": [
    "def mutation(people, probability):\n",
    "    for i in range(population):\n",
    "        for j in range(gates):\n",
    "            if random.random() <= probability:\n",
    "                people[i][j] = random.randint(0, 5)"
   ]
  },
  {
   "cell_type": "code",
   "execution_count": 278,
   "metadata": {},
   "outputs": [],
   "source": [
    "def hasSolution(people):\n",
    "    return max(map(fitness, people)) == rows"
   ]
  },
  {
   "cell_type": "code",
   "execution_count": 279,
   "metadata": {},
   "outputs": [],
   "source": [
    "def printSolution(chromosome):\n",
    "    ans = \"\"\n",
    "    for gene in chromosome:\n",
    "        if gene == 0:\n",
    "            ans += \"AND \"\n",
    "        elif gene == 1:\n",
    "            ans += \"OR \"\n",
    "        elif gene == 2:\n",
    "            ans += \"XOR \"\n",
    "        elif gene == 3:\n",
    "            ans += \"NAND \"\n",
    "        elif gene == 4:\n",
    "            ans += \"NOR \"\n",
    "        else:\n",
    "            ans += \"XNOR \"\n",
    "    return ans"
   ]
  },
  {
   "cell_type": "code",
   "execution_count": 280,
   "metadata": {},
   "outputs": [
    {
     "name": "stdout",
     "output_type": "stream",
     "text": [
      "Max fitness:  960\n",
      "Max fitness:  968\n",
      "Max fitness:  988\n",
      "Max fitness:  988\n",
      "Max fitness:  980\n",
      "Max fitness:  1004\n",
      "Max fitness:  1006\n",
      "Max fitness:  1004\n",
      "Max fitness:  1002\n",
      "Max fitness:  1008\n",
      "Max fitness:  1008\n",
      "Max fitness:  1012\n",
      "Max fitness:  1016\n",
      "Max fitness:  1016\n",
      "Max fitness:  1016\n",
      "Max fitness:  1016\n",
      "Max fitness:  1016\n",
      "Max fitness:  1016\n",
      "Max fitness:  1016\n",
      "NAND XNOR OR XNOR AND OR AND XOR NOR \n"
     ]
    }
   ],
   "source": [
    "while True:\n",
    "    print(\"Max fitness: \", populationMax(people))\n",
    "    people = rankBasedSelection(people)\n",
    "    random.shuffle(people)\n",
    "    onePointCrossover(people, 0.7)\n",
    "    mutation(people, 0.01)\n",
    "    if hasSolution(people):\n",
    "        break\n",
    "\n",
    "for person in people:\n",
    "    if fitness(person) == rows:\n",
    "        print(printSolution(person))\n",
    "        break"
   ]
  },
  {
   "cell_type": "markdown",
   "metadata": {},
   "source": [
    "# فاز پنجم"
   ]
  },
  {
   "cell_type": "markdown",
   "metadata": {},
   "source": [
    "## سوال یک\n",
    "همان‌طور که در بخش مربوطه توضیح داده شد، با مشاهده‌ی فراوان می‌توان پی برد گیتی که همه‌ی سطر‌های ورودی را جواب بدهد باید فیتنس بالاتری داشته باشد و اگر جوابی داشته باشیم اگر جوابی داشته باشیم که تعداد زیادی از سطر‌ها را درست جواب می‌دهد، احتمالا با تغییر کمی می‌توانیم به جواب اصلی برسیم.\n",
    "\n",
    "هم‌چنین نکته‌ی مهم دیگر در این مسئله این است که این تابع برای هر فرد به سرعت قابل محاسبه هست که این باعث می‌شود تولید و بررسی نسل‌هایمان سریع‌تر انجام شود."
   ]
  },
  {
   "cell_type": "markdown",
   "metadata": {},
   "source": [
    "## سوال دو\n",
    "دو روش اف‌پی‌اس و رنک‌بیسد امتحان شد که نتایج رنک‌بیسد بهتر بود. دلیل آن نیز این است که رنک‌بیسد اجازه‌ی تنوع بیش‌تری به جمعیتمان می‌دهد که این شرط مهمی برای این سوال است زیرا ممکن است با یک تغییر گیت از جواب نه خیلی خوب به جواب اصلی برسیم."
   ]
  },
  {
   "cell_type": "markdown",
   "metadata": {},
   "source": [
    "## سوال سه\n",
    "در بسیاری از موارد جمعیت ما در یک سیکل گیر کرده و تکرار می‌شود. در این موارد میوتشن می‌تواند چاره‌ی کار باشد و باعث شود که تغییری در جمعیت رخ دهد و از آن سیکل خارج شود.\n",
    "احتمال آن کم باید باشد که خیلی هم از جوابی که ما را به جواب نزدیک کرده دور نشویم.\n",
    "با امتحان و خطا مقدار ۰.۰۱ بسیار بهتر از بقیه موارد بود.\n",
    "\n",
    "برای کراس‌اور نیز توانستیم با بررسی شرایط مختلف به عدد گفته شده برسیم. دلیل این کار امتحان‌های متعدد بود. کراس‌اور نقش مهمی در این زمینه دارد زیرا در نبود آن، هر فرد به احتمال خیلی کمی توسط میوتشن عوض می‌شود؛ پس اگر این تابع برداشته شود، تغییر خیلی کمی در جمعیت‌ها خواهیم داشت و بیش‌تر کد ما به ساخت نسل‌ها مشغول خواهد بود تا بررسی حالات مختلف. "
   ]
  },
  {
   "cell_type": "markdown",
   "metadata": {},
   "source": [
    "## سوال چهارم\n",
    "از آن‌جایی که این تابع به شکلی دارد ماکسیمم محلی را پیدا می‌کند، ممکن است ماکسیمم محلی‌مان برابر با ماکسیمم کل نباشد. بنابراین اتفاقی که می‌افتد، گیر کردن در این نقطه‌ی ماکسیمم محلی است. مشکلی هم که این مسئله ایجاد می‌کند، تولید نسل‌های مشابه و نرسیدن به ماکسیمم کل است.برای حل آن می‌توان از میتوشن با احتمال بالاتری استفاده کرد که بسیار موثر است.\n",
    "\n",
    "از این روش استفاده شد و بهترین میوتشن انتخاب گردید.\n",
    "\n",
    "راه حل دیگر این است که با حالت‌های مختلف بیش‌تری شروع کنیم که این نیز باعث کند‌تر شدن تولید و بررسی نسل‌ها می‌شود پس بهترین حالت نقطه تعادل آن‌ها خواهد بود."
   ]
  },
  {
   "cell_type": "markdown",
   "metadata": {},
   "source": [
    "# نتیجه گیری\n",
    "دیدیم که در مسئله‌ای که با سریع‌ترین زبان‌های برنامه نویسی مانند سی‌پلاس‌پلاس اگر با حالت بک‌ترکینگ پیاده سازی شود، دو ساعت طول می‌کشد، با این الگوریتم و با زبان کندتری مثل پایتون در عرض چند ثانیه به جواب می‌رسیم."
   ]
  },
  {
   "cell_type": "markdown",
   "metadata": {},
   "source": [
    "# راهکار‌هایی برای بهبود پروژه\n",
    "برای بهبود این پروژه می‌توان از روش‌هایی نظیر n-point-Crossover استفاده کرد.\n",
    "\n",
    "البته ممکن است که این روش جواب معکوسی دهد و لزوما خوب نیست. زیرا هم برنامه را کند می‌کند و هم دلیل خیلی خوبی برای بهبود وجود ندارد."
   ]
  }
 ],
 "metadata": {
  "kernelspec": {
   "display_name": "Python 3",
   "language": "python",
   "name": "python3"
  },
  "language_info": {
   "codemirror_mode": {
    "name": "ipython",
    "version": 3
   },
   "file_extension": ".py",
   "mimetype": "text/x-python",
   "name": "python",
   "nbconvert_exporter": "python",
   "pygments_lexer": "ipython3",
   "version": "3.8.5"
  }
 },
 "nbformat": 4,
 "nbformat_minor": 4
}
